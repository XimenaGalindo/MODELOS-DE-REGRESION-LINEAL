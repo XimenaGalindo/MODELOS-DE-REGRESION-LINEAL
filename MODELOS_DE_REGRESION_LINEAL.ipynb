{
  "nbformat": 4,
  "nbformat_minor": 0,
  "metadata": {
    "colab": {
      "provenance": []
    },
    "kernelspec": {
      "name": "python3",
      "display_name": "Python 3"
    },
    "language_info": {
      "name": "python"
    }
  },
  "cells": [
    {
      "cell_type": "code",
      "execution_count": 1,
      "metadata": {
        "id": "TfSGQHbMAF66"
      },
      "outputs": [],
      "source": [
        "import pandas as pd\n",
        "import numpy as np\n",
        "import matplotlib.pyplot as plt\n",
        "import seaborn as sn"
      ]
    },
    {
      "cell_type": "code",
      "source": [
        "from google.colab import files\n",
        "files.upload()"
      ],
      "metadata": {
        "id": "6Th4-fhOAslO"
      },
      "execution_count": null,
      "outputs": []
    },
    {
      "cell_type": "code",
      "source": [
        "\n",
        "df= pd.read_csv(\"cuentas_credicel.csv\", encoding= 'latin')\n",
        "pd.options.display.max_columns = None\n",
        "df.head(5)"
      ],
      "metadata": {
        "id": "A-5r3a0TA5dY"
      },
      "execution_count": null,
      "outputs": []
    },
    {
      "cell_type": "markdown",
      "source": [
        "Convertir riesgo\n",
        "\n"
      ],
      "metadata": {
        "id": "F-Wen2eLBANV"
      }
    },
    {
      "cell_type": "code",
      "source": [
        "#Sustituyo los strings Atraso, Cancelado y Fraude por la constante \"0\"\n",
        "df['riesgo']=df['riesgo'].str.replace('Atraso', '0')\n",
        "df['riesgo']=df['riesgo'].str.replace('Cancelado', '0')\n",
        "df['riesgo']=df['riesgo'].str.replace('Fraude', '0')\n",
        "\n",
        "\n",
        "riesgo_categorias = df.groupby(['riesgo'])['riesgo'].count()\n",
        "riesgo_categorias"
      ],
      "metadata": {
        "id": "HHfmhoqgBAvT"
      },
      "execution_count": null,
      "outputs": []
    },
    {
      "cell_type": "markdown",
      "source": [
        "Convertir columna plazo\n",
        "\n"
      ],
      "metadata": {
        "id": "OXsJeGiwBJXf"
      }
    },
    {
      "cell_type": "code",
      "source": [
        "#Eliminar un signo de una columna\n",
        "df['plazo']=df['plazo'].str.replace('S', '')\n",
        "\n",
        "\n",
        "#Conversión de tipo de dato de columna de tipo Object a int\n",
        "df['plazo']= df['plazo'].astype(int)"
      ],
      "metadata": {
        "id": "ptD4-nfnBI8b"
      },
      "execution_count": 5,
      "outputs": []
    },
    {
      "cell_type": "code",
      "source": [
        "df[\"riesgo\"]= df[\"riesgo\"].fillna(0)\n",
        "df[\"porc_enganche\"]=df[\"porc_enganche\"].fillna(method=\"ffill\")\n",
        "df.isnull().sum()"
      ],
      "metadata": {
        "id": "EW_z243uBVvU"
      },
      "execution_count": null,
      "outputs": []
    },
    {
      "cell_type": "code",
      "source": [
        "#Declaramos las variables dependientes e independientes para la regresión lineal\n",
        "Vars_Indep= df[['score_buro']]\n",
        "Var_Dep= df['enganche']\n",
        "#Se define model como la función de regresión lineal\n",
        "from sklearn.linear_model import LinearRegression\n",
        "model= LinearRegression()\n",
        "#Ajustamos el modelo con las variables antes declaradas\n",
        "model.fit(X=Vars_Indep, y=Var_Dep)\n",
        "#Verificamos los coeficientes obtenidos para el modelo ajustado\n",
        "model.__dict__"
      ],
      "metadata": {
        "colab": {
          "base_uri": "https://localhost:8080/",
          "height": 0
        },
        "id": "4BHMDD2XBdut",
        "outputId": "8293922f-dc7f-446e-a63f-3b0c2d6a5999"
      },
      "execution_count": 8,
      "outputs": [
        {
          "output_type": "execute_result",
          "data": {
            "text/plain": [
              "{'fit_intercept': True,\n",
              " 'copy_X': True,\n",
              " 'n_jobs': None,\n",
              " 'positive': False,\n",
              " 'feature_names_in_': array(['score_buro'], dtype=object),\n",
              " 'n_features_in_': 1,\n",
              " 'coef_': array([8.30362837]),\n",
              " 'rank_': 1,\n",
              " 'singular_': array([713.01781912]),\n",
              " 'intercept_': 928.5596445591957}"
            ]
          },
          "metadata": {},
          "execution_count": 8
        }
      ]
    },
    {
      "cell_type": "markdown",
      "source": [
        "1er Modelo Matemático: y=8.30362837x+928.5596445591957\n",
        "\n"
      ],
      "metadata": {
        "id": "MQTaSBQ1BknB"
      }
    },
    {
      "cell_type": "code",
      "source": [
        "y_pred= model.predict(X=df[[\"score_buro\"]])\n",
        "y_pred\n"
      ],
      "metadata": {
        "colab": {
          "base_uri": "https://localhost:8080/",
          "height": 0
        },
        "id": "9fEM-o0EBhr1",
        "outputId": "ab08d216-c815-405a-82b3-146d29171156"
      },
      "execution_count": 10,
      "outputs": [
        {
          "output_type": "execute_result",
          "data": {
            "text/plain": [
              "array([928.55964456, 928.55964456, 928.55964456, ..., 928.55964456,\n",
              "       928.55964456, 928.55964456])"
            ]
          },
          "metadata": {},
          "execution_count": 10
        }
      ]
    },
    {
      "cell_type": "code",
      "source": [
        "coef_Deter=model.score(X=Vars_Indep, y=Var_Dep)\n",
        "coef_Deter"
      ],
      "metadata": {
        "colab": {
          "base_uri": "https://localhost:8080/",
          "height": 0
        },
        "id": "9XEektNnBqs9",
        "outputId": "38973895-3d21-47e9-dbc6-536aa40f34d3"
      },
      "execution_count": 11,
      "outputs": [
        {
          "output_type": "execute_result",
          "data": {
            "text/plain": [
              "0.006785706027080618"
            ]
          },
          "metadata": {},
          "execution_count": 11
        }
      ]
    },
    {
      "cell_type": "code",
      "source": [
        "coef_Correl=np.sqrt(coef_Deter)\n",
        "coef_Correl"
      ],
      "metadata": {
        "colab": {
          "base_uri": "https://localhost:8080/",
          "height": 0
        },
        "id": "8yG627XIBug4",
        "outputId": "ab8d86f8-a50f-48e0-9029-1e0f1eb98d84"
      },
      "execution_count": 12,
      "outputs": [
        {
          "output_type": "execute_result",
          "data": {
            "text/plain": [
              "0.08237539697677103"
            ]
          },
          "metadata": {},
          "execution_count": 12
        }
      ]
    },
    {
      "cell_type": "code",
      "source": [
        "#Declaramos las variables dependientes e independientes para la regresión lineal\n",
        "Vars_Indep= df[['score_buro']]\n",
        "Var_Dep= df['precio']\n",
        "#Se define model como la función de regresión lineal\n",
        "from sklearn.linear_model import LinearRegression\n",
        "model= LinearRegression()\n",
        "#Ajustamos el modelo con las variables antes declaradas\n",
        "model.fit(X=Vars_Indep, y=Var_Dep)\n",
        "#Verificamos los coeficientes obtenidos para el modelo ajustado\n",
        "model.__dict__"
      ],
      "metadata": {
        "colab": {
          "base_uri": "https://localhost:8080/",
          "height": 0
        },
        "id": "1E6uLoK-B20A",
        "outputId": "9f1ce721-5f31-4500-faff-c43787b45b6c"
      },
      "execution_count": 13,
      "outputs": [
        {
          "output_type": "execute_result",
          "data": {
            "text/plain": [
              "{'fit_intercept': True,\n",
              " 'copy_X': True,\n",
              " 'n_jobs': None,\n",
              " 'positive': False,\n",
              " 'feature_names_in_': array(['score_buro'], dtype=object),\n",
              " 'n_features_in_': 1,\n",
              " 'coef_': array([-7.11615993]),\n",
              " 'rank_': 1,\n",
              " 'singular_': array([713.01781912]),\n",
              " 'intercept_': 3995.217831233963}"
            ]
          },
          "metadata": {},
          "execution_count": 13
        }
      ]
    },
    {
      "cell_type": "markdown",
      "source": [
        "2do Modelo Matemático: y= -7.11615993x +3995.217831233963\n",
        "\n"
      ],
      "metadata": {
        "id": "2xvLIkcjB6GS"
      }
    },
    {
      "cell_type": "code",
      "source": [
        "y_pred= model.predict(X=df[[\"score_buro\"]])\n",
        "y_pred"
      ],
      "metadata": {
        "colab": {
          "base_uri": "https://localhost:8080/",
          "height": 0
        },
        "id": "h8HmiX6aCGQI",
        "outputId": "a4d5a5ca-c8d6-46cc-8717-b6c18b5a5533"
      },
      "execution_count": 14,
      "outputs": [
        {
          "output_type": "execute_result",
          "data": {
            "text/plain": [
              "array([3995.21783123, 3995.21783123, 3995.21783123, ..., 3995.21783123,\n",
              "       3995.21783123, 3995.21783123])"
            ]
          },
          "metadata": {},
          "execution_count": 14
        }
      ]
    },
    {
      "cell_type": "code",
      "source": [
        "coef_Deter=model.score(X=Vars_Indep, y=Var_Dep)\n",
        "coef_Deter\n",
        ""
      ],
      "metadata": {
        "colab": {
          "base_uri": "https://localhost:8080/",
          "height": 0
        },
        "id": "6UlOt_qOCJzx",
        "outputId": "430cd77d-af64-41a5-e5f7-ee59ac413916"
      },
      "execution_count": 15,
      "outputs": [
        {
          "output_type": "execute_result",
          "data": {
            "text/plain": [
              "0.0006109088972575671"
            ]
          },
          "metadata": {},
          "execution_count": 15
        }
      ]
    },
    {
      "cell_type": "code",
      "source": [
        "coef_Correl=np.sqrt(coef_Deter)\n",
        "coef_Correl"
      ],
      "metadata": {
        "colab": {
          "base_uri": "https://localhost:8080/",
          "height": 0
        },
        "id": "BP0Ex5JWCLXu",
        "outputId": "1c29d511-31dc-4de6-bd10-2ae38ac018f0"
      },
      "execution_count": 16,
      "outputs": [
        {
          "output_type": "execute_result",
          "data": {
            "text/plain": [
              "0.02471657130869019"
            ]
          },
          "metadata": {},
          "execution_count": 16
        }
      ]
    },
    {
      "cell_type": "code",
      "source": [
        "#Declaramos las variables dependientes e independientes para la regresión lineal\n",
        "Vars_Indep= df[['score_buro']]\n",
        "Var_Dep= df['costo_total']\n",
        "#Se define model como la función de regresión lineal\n",
        "from sklearn.linear_model import LinearRegression\n",
        "model= LinearRegression()\n",
        "#Ajustamos el modelo con las variables antes declaradas\n",
        "model.fit(X=Vars_Indep, y=Var_Dep)\n",
        "#Verificamos los coeficientes obtenidos para el modelo ajustado\n",
        "model.__dict__"
      ],
      "metadata": {
        "colab": {
          "base_uri": "https://localhost:8080/",
          "height": 0
        },
        "id": "9lxTJM2dCNSK",
        "outputId": "d34d4235-ad9f-44c1-d1ba-ea758276ca6e"
      },
      "execution_count": 17,
      "outputs": [
        {
          "output_type": "execute_result",
          "data": {
            "text/plain": [
              "{'fit_intercept': True,\n",
              " 'copy_X': True,\n",
              " 'n_jobs': None,\n",
              " 'positive': False,\n",
              " 'feature_names_in_': array(['score_buro'], dtype=object),\n",
              " 'n_features_in_': 1,\n",
              " 'coef_': array([-18.95458459]),\n",
              " 'rank_': 1,\n",
              " 'singular_': array([713.01781912]),\n",
              " 'intercept_': 5694.847880533092}"
            ]
          },
          "metadata": {},
          "execution_count": 17
        }
      ]
    },
    {
      "cell_type": "markdown",
      "source": [
        "3er Modelo Matemático: y=-18.95458459x+5694.847880533092\n",
        "\n"
      ],
      "metadata": {
        "id": "iJ73MHEOCbO5"
      }
    },
    {
      "cell_type": "code",
      "source": [
        "y_pred= model.predict(X=df[[\"score_buro\"]])\n",
        "y_pred"
      ],
      "metadata": {
        "colab": {
          "base_uri": "https://localhost:8080/",
          "height": 0
        },
        "id": "YnILTMzACYlU",
        "outputId": "e310df17-4a92-493a-b72a-017847c43e3a"
      },
      "execution_count": 18,
      "outputs": [
        {
          "output_type": "execute_result",
          "data": {
            "text/plain": [
              "array([5694.84788053, 5694.84788053, 5694.84788053, ..., 5694.84788053,\n",
              "       5694.84788053, 5694.84788053])"
            ]
          },
          "metadata": {},
          "execution_count": 18
        }
      ]
    },
    {
      "cell_type": "code",
      "source": [
        "coef_Deter=model.score(X=Vars_Indep, y=Var_Dep)\n",
        "coef_Deter"
      ],
      "metadata": {
        "colab": {
          "base_uri": "https://localhost:8080/",
          "height": 0
        },
        "id": "XF0qxFcKCeS-",
        "outputId": "3e68cd5e-c1fa-4434-b689-c3fd59dd7d1a"
      },
      "execution_count": 19,
      "outputs": [
        {
          "output_type": "execute_result",
          "data": {
            "text/plain": [
              "0.001411319050099502"
            ]
          },
          "metadata": {},
          "execution_count": 19
        }
      ]
    },
    {
      "cell_type": "code",
      "source": [
        "coef_Correl=np.sqrt(coef_Deter)\n",
        "coef_Correl\n",
        ""
      ],
      "metadata": {
        "colab": {
          "base_uri": "https://localhost:8080/",
          "height": 0
        },
        "id": "EnPVNNutCf6I",
        "outputId": "46aa9625-ef15-4ae4-898f-5b4b16d34715"
      },
      "execution_count": 20,
      "outputs": [
        {
          "output_type": "execute_result",
          "data": {
            "text/plain": [
              "0.03756752653688425"
            ]
          },
          "metadata": {},
          "execution_count": 20
        }
      ]
    },
    {
      "cell_type": "code",
      "source": [
        "#Declaramos las variables dependientes e independientes para la regresión lineal\n",
        "Vars_Indep= df[['score_buro']]\n",
        "Var_Dep= df['pagos_realizados']\n",
        "#Se define model como la función de regresión lineal\n",
        "from sklearn.linear_model import LinearRegression\n",
        "model= LinearRegression()\n",
        "#Ajustamos el modelo con las variables antes declaradas\n",
        "model.fit(X=Vars_Indep, y=Var_Dep)\n",
        "#Verificamos los coeficientes obtenidos para el modelo ajustado\n",
        "model.__dict__"
      ],
      "metadata": {
        "colab": {
          "base_uri": "https://localhost:8080/",
          "height": 0
        },
        "id": "Yu5t8In0CiPP",
        "outputId": "72d25cc6-05d2-486b-bf86-7f7fdd872daf"
      },
      "execution_count": 21,
      "outputs": [
        {
          "output_type": "execute_result",
          "data": {
            "text/plain": [
              "{'fit_intercept': True,\n",
              " 'copy_X': True,\n",
              " 'n_jobs': None,\n",
              " 'positive': False,\n",
              " 'feature_names_in_': array(['score_buro'], dtype=object),\n",
              " 'n_features_in_': 1,\n",
              " 'coef_': array([-0.03282908]),\n",
              " 'rank_': 1,\n",
              " 'singular_': array([713.01781912]),\n",
              " 'intercept_': 10.172388024218485}"
            ]
          },
          "metadata": {},
          "execution_count": 21
        }
      ]
    },
    {
      "cell_type": "markdown",
      "source": [
        "4to Modelo Matemático: y=-0.03282908x +10.172388024218485\n",
        "\n"
      ],
      "metadata": {
        "id": "paiNvxfiCmLH"
      }
    },
    {
      "cell_type": "code",
      "source": [
        "y_pred= model.predict(X=df[[\"score_buro\"]])\n",
        "y_pred"
      ],
      "metadata": {
        "colab": {
          "base_uri": "https://localhost:8080/",
          "height": 0
        },
        "id": "YqKi1WGACm76",
        "outputId": "5bb72f96-c5d2-480f-ddf4-0b3dc3065fc3"
      },
      "execution_count": 22,
      "outputs": [
        {
          "output_type": "execute_result",
          "data": {
            "text/plain": [
              "array([10.17238802, 10.17238802, 10.17238802, ..., 10.17238802,\n",
              "       10.17238802, 10.17238802])"
            ]
          },
          "metadata": {},
          "execution_count": 22
        }
      ]
    },
    {
      "cell_type": "code",
      "source": [
        "coef_Deter=model.score(X=Vars_Indep, y=Var_Dep)\n",
        "coef_Deter"
      ],
      "metadata": {
        "colab": {
          "base_uri": "https://localhost:8080/",
          "height": 0
        },
        "id": "NxsivuWLCqAD",
        "outputId": "10433853-d5b0-4bed-f673-cf378b1fb1c7"
      },
      "execution_count": 23,
      "outputs": [
        {
          "output_type": "execute_result",
          "data": {
            "text/plain": [
              "0.0002557069223527719"
            ]
          },
          "metadata": {},
          "execution_count": 23
        }
      ]
    },
    {
      "cell_type": "code",
      "source": [
        "coef_Correl=np.sqrt(coef_Deter)\n",
        "coef_Correl"
      ],
      "metadata": {
        "colab": {
          "base_uri": "https://localhost:8080/",
          "height": 0
        },
        "id": "eeWw9w8dCrdQ",
        "outputId": "7c2ec94b-875f-4a8c-d1d1-42025bba4c2b"
      },
      "execution_count": 24,
      "outputs": [
        {
          "output_type": "execute_result",
          "data": {
            "text/plain": [
              "0.015990838700730238"
            ]
          },
          "metadata": {},
          "execution_count": 24
        }
      ]
    },
    {
      "cell_type": "code",
      "source": [
        "\n",
        "#Declaramos las variables dependientes e independientes para la regresión lineal\n",
        "Vars_Indep= df[['score_buro']]\n",
        "Var_Dep= df['riesgo']\n",
        "#Se define model como la función de regresión lineal\n",
        "from sklearn.linear_model import LinearRegression\n",
        "model= LinearRegression()\n",
        "#Ajustamos el modelo con las variables antes declaradas\n",
        "model.fit(X=Vars_Indep, y=Var_Dep)\n",
        "#Verificamos los coeficientes obtenidos para el modelo ajustado\n",
        "model.__dict__"
      ],
      "metadata": {
        "id": "TzXobMZ-C0NO"
      },
      "execution_count": null,
      "outputs": []
    },
    {
      "cell_type": "markdown",
      "source": [
        "5to Modelo Matemático: y=0.02461996x+2.1603808207395727\n",
        "\n"
      ],
      "metadata": {
        "id": "sceKOEEAC1Bk"
      }
    },
    {
      "cell_type": "code",
      "source": [
        "y_pred= model.predict(X=df[[\"score_buro\"]])\n",
        "y_pred"
      ],
      "metadata": {
        "colab": {
          "base_uri": "https://localhost:8080/",
          "height": 0
        },
        "id": "ySoXGSDlC7dJ",
        "outputId": "f4a99234-d803-4ef0-c9a5-c8d82cd9fe2c"
      },
      "execution_count": 25,
      "outputs": [
        {
          "output_type": "execute_result",
          "data": {
            "text/plain": [
              "array([10.17238802, 10.17238802, 10.17238802, ..., 10.17238802,\n",
              "       10.17238802, 10.17238802])"
            ]
          },
          "metadata": {},
          "execution_count": 25
        }
      ]
    },
    {
      "cell_type": "code",
      "source": [
        "coef_Deter=model.score(X=Vars_Indep, y=Var_Dep)\n",
        "coef_Deter"
      ],
      "metadata": {
        "colab": {
          "base_uri": "https://localhost:8080/",
          "height": 0
        },
        "id": "LNH9ENIlC-Mr",
        "outputId": "396e8f1a-f7c2-4de1-af55-601abb805146"
      },
      "execution_count": 26,
      "outputs": [
        {
          "output_type": "execute_result",
          "data": {
            "text/plain": [
              "0.0002557069223527719"
            ]
          },
          "metadata": {},
          "execution_count": 26
        }
      ]
    },
    {
      "cell_type": "code",
      "source": [
        "coef_Correl=np.sqrt(coef_Deter)\n",
        "coef_Correl\n",
        ""
      ],
      "metadata": {
        "colab": {
          "base_uri": "https://localhost:8080/",
          "height": 0
        },
        "id": "Xhti3HDqC_xB",
        "outputId": "0224826c-7768-488b-8e17-2fa6d49949bb"
      },
      "execution_count": 27,
      "outputs": [
        {
          "output_type": "execute_result",
          "data": {
            "text/plain": [
              "0.015990838700730238"
            ]
          },
          "metadata": {},
          "execution_count": 27
        }
      ]
    },
    {
      "cell_type": "code",
      "source": [
        "#Declaramos las variables dependientes e independientes para la regresión lineal\n",
        "Vars_Indep= df[['score_buro']]\n",
        "Var_Dep= df['plazo']\n",
        "#Se define model como la función de regresión lineal\n",
        "from sklearn.linear_model import LinearRegression\n",
        "model= LinearRegression()\n",
        "#Ajustamos el modelo con las variables antes declaradas\n",
        "model.fit(X=Vars_Indep, y=Var_Dep)\n",
        "#Verificamos los coeficientes obtenidos para el modelo ajustado\n",
        "model.__dict__\n",
        ""
      ],
      "metadata": {
        "colab": {
          "base_uri": "https://localhost:8080/",
          "height": 0
        },
        "id": "GcJOkDD9DB8f",
        "outputId": "3bd6c2ef-dd6f-4f08-e188-bc26c3aacbba"
      },
      "execution_count": 28,
      "outputs": [
        {
          "output_type": "execute_result",
          "data": {
            "text/plain": [
              "{'fit_intercept': True,\n",
              " 'copy_X': True,\n",
              " 'n_jobs': None,\n",
              " 'positive': False,\n",
              " 'feature_names_in_': array(['score_buro'], dtype=object),\n",
              " 'n_features_in_': 1,\n",
              " 'coef_': array([0.06482148]),\n",
              " 'rank_': 1,\n",
              " 'singular_': array([713.01781912]),\n",
              " 'intercept_': 25.926221898296898}"
            ]
          },
          "metadata": {},
          "execution_count": 28
        }
      ]
    },
    {
      "cell_type": "markdown",
      "source": [
        "6to Modelo Matemático: y=0.06482148x+25.926221898296898\n",
        "\n"
      ],
      "metadata": {
        "id": "saMpf9H-DJCl"
      }
    },
    {
      "cell_type": "code",
      "source": [
        "y_pred= model.predict(X=df[[\"score_buro\"]])\n",
        "y_pred"
      ],
      "metadata": {
        "colab": {
          "base_uri": "https://localhost:8080/",
          "height": 0
        },
        "id": "jOtvQL3xDESG",
        "outputId": "316cb26c-739e-439b-8817-5f76a45cb6d0"
      },
      "execution_count": 29,
      "outputs": [
        {
          "output_type": "execute_result",
          "data": {
            "text/plain": [
              "array([25.9262219, 25.9262219, 25.9262219, ..., 25.9262219, 25.9262219,\n",
              "       25.9262219])"
            ]
          },
          "metadata": {},
          "execution_count": 29
        }
      ]
    },
    {
      "cell_type": "code",
      "source": [
        "coef_Deter=model.score(X=Vars_Indep, y=Var_Dep)\n",
        "coef_Deter"
      ],
      "metadata": {
        "colab": {
          "base_uri": "https://localhost:8080/",
          "height": 0
        },
        "id": "hggc1kXPDTnC",
        "outputId": "3582f53c-4f3c-450a-950b-e153e06b6b4f"
      },
      "execution_count": 30,
      "outputs": [
        {
          "output_type": "execute_result",
          "data": {
            "text/plain": [
              "0.0009418250456870725"
            ]
          },
          "metadata": {},
          "execution_count": 30
        }
      ]
    },
    {
      "cell_type": "code",
      "source": [
        "coef_Correl=np.sqrt(coef_Deter)\n",
        "coef_Correl\n"
      ],
      "metadata": {
        "colab": {
          "base_uri": "https://localhost:8080/",
          "height": 0
        },
        "id": "cj4k_RJFDWCw",
        "outputId": "3ff40715-f220-4736-d56a-95c8d70e43f6"
      },
      "execution_count": 31,
      "outputs": [
        {
          "output_type": "execute_result",
          "data": {
            "text/plain": [
              "0.030689168214323968"
            ]
          },
          "metadata": {},
          "execution_count": 31
        }
      ]
    },
    {
      "cell_type": "code",
      "source": [
        "#Declaramos las variables dependientes e independientes para la regresión lineal\n",
        "Vars_Indep= df[['score_buro']]\n",
        "Var_Dep= df['monto_financiado']\n",
        "#Se define model como la función de regresión lineal\n",
        "from sklearn.linear_model import LinearRegression\n",
        "model= LinearRegression()\n",
        "#Ajustamos el modelo con las variables antes declaradas\n",
        "model.fit(X=Vars_Indep, y=Var_Dep)\n",
        "#Verificamos los coeficientes obtenidos para el modelo ajustado\n",
        "model.__dict__"
      ],
      "metadata": {
        "colab": {
          "base_uri": "https://localhost:8080/",
          "height": 0
        },
        "id": "ppsCl0MdDXyD",
        "outputId": "ba8d0c0b-544d-4e80-e3be-6429ae35ee2b"
      },
      "execution_count": 32,
      "outputs": [
        {
          "output_type": "execute_result",
          "data": {
            "text/plain": [
              "{'fit_intercept': True,\n",
              " 'copy_X': True,\n",
              " 'n_jobs': None,\n",
              " 'positive': False,\n",
              " 'feature_names_in_': array(['score_buro'], dtype=object),\n",
              " 'n_features_in_': 1,\n",
              " 'coef_': array([-15.3639206]),\n",
              " 'rank_': 1,\n",
              " 'singular_': array([713.01781912]),\n",
              " 'intercept_': 3072.209876915044}"
            ]
          },
          "metadata": {},
          "execution_count": 32
        }
      ]
    },
    {
      "cell_type": "markdown",
      "source": [
        "7mo Modelo Matemático: y=-15.3639206x +3072.209876915044\n",
        "\n"
      ],
      "metadata": {
        "id": "eUgxw8PSDafI"
      }
    },
    {
      "cell_type": "code",
      "source": [
        "y_pred= model.predict(X=df[[\"score_buro\"]])\n",
        "y_pred"
      ],
      "metadata": {
        "colab": {
          "base_uri": "https://localhost:8080/",
          "height": 0
        },
        "id": "S_EMMGnEDaOr",
        "outputId": "ee6d011f-7708-4b02-edc9-12242995e144"
      },
      "execution_count": 33,
      "outputs": [
        {
          "output_type": "execute_result",
          "data": {
            "text/plain": [
              "array([3072.20987692, 3072.20987692, 3072.20987692, ..., 3072.20987692,\n",
              "       3072.20987692, 3072.20987692])"
            ]
          },
          "metadata": {},
          "execution_count": 33
        }
      ]
    },
    {
      "cell_type": "code",
      "source": [
        "coef_Deter=model.score(X=Vars_Indep, y=Var_Dep)\n",
        "coef_Deter"
      ],
      "metadata": {
        "colab": {
          "base_uri": "https://localhost:8080/",
          "height": 0
        },
        "id": "7QBot2eWDd8j",
        "outputId": "57c4728f-2b74-4d12-b176-d51f0de163a9"
      },
      "execution_count": 34,
      "outputs": [
        {
          "output_type": "execute_result",
          "data": {
            "text/plain": [
              "0.00438865960173207"
            ]
          },
          "metadata": {},
          "execution_count": 34
        }
      ]
    },
    {
      "cell_type": "code",
      "source": [
        "coef_Correl=np.sqrt(coef_Deter)\n",
        "coef_Correl"
      ],
      "metadata": {
        "colab": {
          "base_uri": "https://localhost:8080/",
          "height": 0
        },
        "id": "uQxLmg4pDfdf",
        "outputId": "cb0cda4a-4e2f-4aa6-920a-8c46dc23801a"
      },
      "execution_count": 35,
      "outputs": [
        {
          "output_type": "execute_result",
          "data": {
            "text/plain": [
              "0.06624695918857008"
            ]
          },
          "metadata": {},
          "execution_count": 35
        }
      ]
    }
  ]
}